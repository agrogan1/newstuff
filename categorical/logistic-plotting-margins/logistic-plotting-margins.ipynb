{
  "cells": [
    {
      "cell_type": "raw",
      "metadata": {},
      "source": [
        "---\n",
        "title: \"Logistic Regression - More Complicated Margins Plots\"\n",
        "subtitle: \"Some Ideas for Plotting More Complicated Margins Plots\"\n",
        "author: \"Andy Grogan-Kaylor\"\n",
        "date: \"today\"\n",
        "format:\n",
        "  html:\n",
        "    toc: true\n",
        "    number-sections: true\n",
        "    theme:\n",
        "      light: cosmo\n",
        "      dark: vapor\n",
        "    lightbox: true\n",
        "  pdf:\n",
        "    toc: true\n",
        "    toc-depth: 3\n",
        "    number-sections: true\n",
        "    colorlinks: true\n",
        "editor: source\n",
        "---"
      ],
      "id": "2ebe020f"
    },
    {
      "cell_type": "markdown",
      "metadata": {},
      "source": [
        "::: {.callout-tip collapse=\"false\"}\n",
        "This tutorial builds off of some of the ideas first presented in [this tutorial on interactions](https://agrogan1.github.io/newstuff/categorical/logistic-interactions-2/logistic-interactions-2.html).\n",
        ":::\n",
        "\n",
        "# Get Data\n",
        "\n",
        "\n",
        "\n",
        "```{css, echo = FALSE}\n",
        ".output {\n",
        "max-height: 500px;\n",
        "overflow-y: scroll;\n",
        "}\n",
        "```\n",
        "\n",
        "\n",
        "\n",
        "# Run Logistic Model\n",
        "\n",
        "# Run Margins w/ `pwcompare`\n"
      ],
      "id": "983f253c"
    }
  ],
  "metadata": {
    "kernelspec": {
      "display_name": "Python 3",
      "language": "python",
      "name": "python3"
    }
  },
  "nbformat": 4,
  "nbformat_minor": 5
}